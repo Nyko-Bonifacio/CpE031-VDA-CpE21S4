{
  "nbformat": 4,
  "nbformat_minor": 0,
  "metadata": {
    "colab": {
      "provenance": [],
      "authorship_tag": "ABX9TyOwzg6jZicY0e7dtWqxhUBP",
      "include_colab_link": true
    },
    "kernelspec": {
      "name": "python3",
      "display_name": "Python 3"
    },
    "language_info": {
      "name": "python"
    }
  },
  "cells": [
    {
      "cell_type": "markdown",
      "metadata": {
        "id": "view-in-github",
        "colab_type": "text"
      },
      "source": [
        "<a href=\"https://colab.research.google.com/github/Nyko-Bonifacio/CpE031-VDA-CpE21S4/blob/main/Prelim_Q12.ipynb\" target=\"_parent\"><img src=\"https://colab.research.google.com/assets/colab-badge.svg\" alt=\"Open In Colab\"/></a>"
      ]
    },
    {
      "cell_type": "markdown",
      "source": [
        "Write a Pandas program to delete Data Frame row(s) based on given column value.  ![image.png](data:image/png;base64,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)"
      ],
      "metadata": {
        "id": "4wajGr7pECAD"
      }
    },
    {
      "cell_type": "code",
      "source": [
        "import pandas as pd\n",
        "print(\"Original DataFrame:\")\n",
        "data = { 'col1': (1, 2, 3, 4, 5), 'col2': (4, 5, 6, 7, 8), 'col3': (7, 8, 9, 0 ,1)\n",
        "}\n",
        "df = pd.DataFrame(data)\n",
        "print(df)\n",
        "#new\n",
        "print(\"New DataFrame:\")\n",
        "df = df.drop(1)\n",
        "print(df)\n"
      ],
      "metadata": {
        "colab": {
          "base_uri": "https://localhost:8080/"
        },
        "id": "WEMTot-pEAjL",
        "outputId": "0f854e42-7e8e-470f-df11-5bc815e8e1ce"
      },
      "execution_count": 11,
      "outputs": [
        {
          "output_type": "stream",
          "name": "stdout",
          "text": [
            "Original DataFrame:\n",
            "   col1  col2  col3\n",
            "0     1     4     7\n",
            "1     2     5     8\n",
            "2     3     6     9\n",
            "3     4     7     0\n",
            "4     5     8     1\n",
            "New DataFrame:\n",
            "   col1  col2  col3\n",
            "0     1     4     7\n",
            "2     3     6     9\n",
            "3     4     7     0\n",
            "4     5     8     1\n"
          ]
        }
      ]
    },
    {
      "cell_type": "code",
      "source": [],
      "metadata": {
        "id": "JkA3c2tSFI4S"
      },
      "execution_count": null,
      "outputs": []
    }
  ]
}