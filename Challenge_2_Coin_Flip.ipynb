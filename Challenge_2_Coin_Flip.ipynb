{
  "nbformat": 4,
  "nbformat_minor": 0,
  "metadata": {
    "colab": {
      "provenance": [],
      "authorship_tag": "ABX9TyOxC/XqYIf4isqA0/Ldd9n+",
      "include_colab_link": true
    },
    "kernelspec": {
      "name": "python3",
      "display_name": "Python 3"
    },
    "language_info": {
      "name": "python"
    }
  },
  "cells": [
    {
      "cell_type": "markdown",
      "metadata": {
        "id": "view-in-github",
        "colab_type": "text"
      },
      "source": [
        "<a href=\"https://colab.research.google.com/github/Nyko-Bonifacio/CpE031-VDA-CpE21S4/blob/main/Challenge_2_Coin_Flip.ipynb\" target=\"_parent\"><img src=\"https://colab.research.google.com/assets/colab-badge.svg\" alt=\"Open In Colab\"/></a>"
      ]
    },
    {
      "cell_type": "markdown",
      "source": [
        "**Challenge 2: Coin Flip**"
      ],
      "metadata": {
        "id": "vDsWVkNhajOr"
      }
    },
    {
      "cell_type": "markdown",
      "source": [
        "Create a function coin flip() that simulates coin flips repeated n times, with 0 representing tails and 1 representing heads. Make the function a generator with the parameter n as the number of coin flips. Use numpy library as np and the function of np.random.randint() in order to simulate a coin flip. After defining this function, return the result as a list using list comprehension discussed previously."
      ],
      "metadata": {
        "id": "vz98ltUcaWFy"
      }
    },
    {
      "cell_type": "code",
      "source": [
        "import numpy as np\n",
        "\n",
        "def coin_flip(n):\n",
        "    for i in range(n):\n",
        "        yield np.random.randint(0, 2)\n",
        "\n",
        "n = int(input(\"Enter the number of coin flips: \"))\n",
        "result = [flip for flip in coin_flip(n)]\n",
        "print(result)\n"
      ],
      "metadata": {
        "id": "PgVjiHulaiDW"
      },
      "execution_count": null,
      "outputs": []
    }
  ]
}
