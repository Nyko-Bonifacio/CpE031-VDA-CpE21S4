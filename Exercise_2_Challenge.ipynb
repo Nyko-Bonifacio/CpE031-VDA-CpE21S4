{
  "nbformat": 4,
  "nbformat_minor": 0,
  "metadata": {
    "colab": {
      "provenance": [],
      "authorship_tag": "ABX9TyPP7aFxHPB0EPRML4mcp/LK",
      "include_colab_link": true
    },
    "kernelspec": {
      "name": "python3",
      "display_name": "Python 3"
    },
    "language_info": {
      "name": "python"
    }
  },
  "cells": [
    {
      "cell_type": "markdown",
      "metadata": {
        "id": "view-in-github",
        "colab_type": "text"
      },
      "source": [
        "<a href=\"https://colab.research.google.com/github/Nyko-Bonifacio/CpE031-VDA-CpE21S4/blob/main/Exercise_2_Challenge.ipynb\" target=\"_parent\"><img src=\"https://colab.research.google.com/assets/colab-badge.svg\" alt=\"Open In Colab\"/></a>"
      ]
    },
    {
      "cell_type": "markdown",
      "source": [
        "**Example 1**"
      ],
      "metadata": {
        "id": "5ZiJeTYjC7KW"
      }
    },
    {
      "cell_type": "code",
      "execution_count": 8,
      "metadata": {
        "colab": {
          "base_uri": "https://localhost:8080/"
        },
        "id": "hK-9maOTv2xg",
        "outputId": "a1b4fba0-9393-419a-94bf-9ba9409b7ed4"
      },
      "outputs": [
        {
          "output_type": "stream",
          "name": "stdout",
          "text": [
            "  animals  height\n",
            "0     Cat      13\n",
            "1     Dog      17\n",
            "2  Rabbit       8\n"
          ]
        }
      ],
      "source": [
        "import pandas\n",
        "\n",
        "mydataset = {'animals': [\"Cat\", \"Dog\", \"Rabbit\"],\n",
        "'height': [13, 17, 8]}\n",
        "\n",
        "myvar = pandas.DataFrame(mydataset)\n",
        "\n",
        "print(myvar)"
      ]
    },
    {
      "cell_type": "markdown",
      "source": [
        "**Example 2**"
      ],
      "metadata": {
        "id": "8D9fQ_8zC9a-"
      }
    },
    {
      "cell_type": "code",
      "source": [
        "import pandas as pd\n",
        "\n",
        "a=[1, 7, 2]\n",
        "\n",
        "myvar=pd.Series(a)\n",
        "print(myvar)"
      ],
      "metadata": {
        "colab": {
          "base_uri": "https://localhost:8080/"
        },
        "id": "qncfuaZX2o11",
        "outputId": "fba12f5a-9b6e-440d-f820-3a764b34bf15"
      },
      "execution_count": 9,
      "outputs": [
        {
          "output_type": "stream",
          "name": "stdout",
          "text": [
            "0    1\n",
            "1    7\n",
            "2    2\n",
            "dtype: int64\n"
          ]
        }
      ]
    },
    {
      "cell_type": "markdown",
      "source": [
        "**Example 3**"
      ],
      "metadata": {
        "id": "SH_oR2QjC-R3"
      }
    },
    {
      "cell_type": "code",
      "source": [
        "import pandas as pd\n",
        "data = {\"age\": [42, 38, 39],\n",
        "        \"weight\": [50, 40, 45]}\n",
        "myvar = pd.DataFrame(data)\n",
        "print(myvar)"
      ],
      "metadata": {
        "colab": {
          "base_uri": "https://localhost:8080/"
        },
        "id": "mRAoyj8T8Rkf",
        "outputId": "059c0092-93cc-474e-9ec5-d62c9aefc0a8"
      },
      "execution_count": 11,
      "outputs": [
        {
          "output_type": "stream",
          "name": "stdout",
          "text": [
            "   age  weight\n",
            "0   42      50\n",
            "1   38      40\n",
            "2   39      45\n"
          ]
        }
      ]
    },
    {
      "cell_type": "markdown",
      "source": [
        "**Example 4**"
      ],
      "metadata": {
        "id": "eQc-D1O-C_Vx"
      }
    },
    {
      "cell_type": "code",
      "source": [
        "import pandas as pd\n",
        "s1 = pd.Series([0,4,8])\n",
        "s2 = pd.Series([1,5,9])\n",
        "s3 = pd.Series([2,6,8])\n",
        "\n",
        "dframe = pd.DataFrame([s1, s2, s3])\n",
        "print(dframe.loc[1:])"
      ],
      "metadata": {
        "colab": {
          "base_uri": "https://localhost:8080/"
        },
        "id": "ck-kLWg4C5s0",
        "outputId": "5db3351d-f6b0-42ea-ab26-c0cf8142397a"
      },
      "execution_count": 12,
      "outputs": [
        {
          "output_type": "stream",
          "name": "stdout",
          "text": [
            "   0  1  2\n",
            "1  1  5  9\n",
            "2  2  6  8\n"
          ]
        }
      ]
    },
    {
      "cell_type": "markdown",
      "source": [
        "**Example 5**"
      ],
      "metadata": {
        "id": "oZaYrBrXIcW-"
      }
    },
    {
      "cell_type": "code",
      "source": [
        "import pandas as pd\n",
        "\n",
        "s1 = pd.Series([0,4,8])\n",
        "s2 = pd.Series([1,5,9])\n",
        "s3 = pd.Series([2,6,8])\n",
        "s4 = pd.Series([5,10,15])\n",
        "\n",
        "dframe = pd.DataFrame(data=[s1,s2,s3,s4], index=[0,1,2,3], columns=[0,1,2])\n",
        "print(dframe)"
      ],
      "metadata": {
        "colab": {
          "base_uri": "https://localhost:8080/"
        },
        "id": "HBkz0j9UIdXj",
        "outputId": "9d0ab629-6bf8-4dae-9096-940d1a0f867d"
      },
      "execution_count": 16,
      "outputs": [
        {
          "output_type": "stream",
          "name": "stdout",
          "text": [
            "   0   1   2\n",
            "0  0   4   8\n",
            "1  1   5   9\n",
            "2  2   6   8\n",
            "3  5  10  15\n"
          ]
        }
      ]
    },
    {
      "cell_type": "markdown",
      "source": [
        "# **CHALLENGE**\n",
        "**How are you going to delete indices no. 0,1,3 leaving only all items in index?**"
      ],
      "metadata": {
        "id": "AXDXA5vZJX_N"
      }
    },
    {
      "cell_type": "code",
      "source": [
        "import pandas as pd\n",
        "\n",
        "s1 = pd.Series([0, 4, 8])\n",
        "s2 = pd.Series([1, 5, 9])\n",
        "s3 = pd.Series([2, 6, 8])\n",
        "s4 = pd.Series([5, 10, 15])\n",
        "\n",
        "dframe = pd.DataFrame(data=[s1, s2, s3, s4], index=[0, 1, 2, 3], columns=[0, 1, 2])\n",
        "\n",
        "# Deleting indices 0, 1, and 3\n",
        "dframe = dframe.drop([0, 1, 3])\n",
        "\n",
        "print(dframe)\n"
      ],
      "metadata": {
        "colab": {
          "base_uri": "https://localhost:8080/"
        },
        "id": "3qzE8vIBJodP",
        "outputId": "8b3ca954-632e-455b-cca9-eabb67771432"
      },
      "execution_count": 22,
      "outputs": [
        {
          "output_type": "stream",
          "name": "stdout",
          "text": [
            "   0  1  2\n",
            "2  2  6  8\n"
          ]
        }
      ]
    }
  ]
}