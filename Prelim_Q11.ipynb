{
  "nbformat": 4,
  "nbformat_minor": 0,
  "metadata": {
    "colab": {
      "provenance": [],
      "authorship_tag": "ABX9TyPeVys2RZpVdHkcJbkRWlUv",
      "include_colab_link": true
    },
    "kernelspec": {
      "name": "python3",
      "display_name": "Python 3"
    },
    "language_info": {
      "name": "python"
    }
  },
  "cells": [
    {
      "cell_type": "markdown",
      "metadata": {
        "id": "view-in-github",
        "colab_type": "text"
      },
      "source": [
        "<a href=\"https://colab.research.google.com/github/Nyko-Bonifacio/CpE031-VDA-CpE21S4/blob/main/Prelim_Q11.ipynb\" target=\"_parent\"><img src=\"https://colab.research.google.com/assets/colab-badge.svg\" alt=\"Open In Colab\"/></a>"
      ]
    },
    {
      "cell_type": "code",
      "source": [],
      "metadata": {
        "id": "ObiDRt5dDnyf"
      },
      "execution_count": null,
      "outputs": []
    },
    {
      "cell_type": "markdown",
      "source": [
        "Write a  Pandas program to create a Data Frame from a dictionary and display it ike similar to the table below: ![image.png](data:image/png;base64,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)"
      ],
      "metadata": {
        "id": "tR-Uhc0sB9bb"
      }
    },
    {
      "cell_type": "code",
      "execution_count": 8,
      "metadata": {
        "colab": {
          "base_uri": "https://localhost:8080/"
        },
        "id": "8X0xT6WP3e1g",
        "outputId": "a2d2d44c-cd8e-4c31-81d4-4c16724081b3"
      },
      "outputs": [
        {
          "output_type": "stream",
          "name": "stdout",
          "text": [
            "    X   Y   Z\n",
            "0  78  84  86\n",
            "1  85  94  97\n",
            "2  96  89  96\n",
            "3  80  83  72\n",
            "4  86  86  83\n"
          ]
        }
      ],
      "source": [
        "import pandas as pd\n",
        "\n",
        "data = { 'X': (78, 85, 96, 80, 86), 'Y': (84, 94, 89, 83, 86), 'Z': (86, 97, 96, 72, 83)\n",
        "}\n",
        "\n",
        "df = pd.DataFrame(data)\n",
        "\n",
        "print(df)\n"
      ]
    }
  ]
}